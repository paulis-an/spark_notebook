{
  "nbformat": 4,
  "nbformat_minor": 0,
  "metadata": {
    "colab": {
      "name": "spark-2.ipynb",
      "provenance": [],
      "mount_file_id": "1r3PXtint3QE9JZUaiDiO0PYa7b4yhZYe",
      "authorship_tag": "ABX9TyMz+WQIQ1PrpxAyA5LuKbF0",
      "include_colab_link": true
    },
    "kernelspec": {
      "name": "python3",
      "display_name": "Python 3"
    },
    "language_info": {
      "name": "python"
    }
  },
  "cells": [
    {
      "cell_type": "markdown",
      "metadata": {
        "id": "view-in-github",
        "colab_type": "text"
      },
      "source": [
        "<a href=\"https://colab.research.google.com/github/paulis-an/spark_notebook/blob/main/spark_2.ipynb\" target=\"_parent\"><img src=\"https://colab.research.google.com/assets/colab-badge.svg\" alt=\"Open In Colab\"/></a>"
      ]
    },
    {
      "cell_type": "code",
      "execution_count": null,
      "metadata": {
        "id": "bDnwSPxsnC-H",
        "colab": {
          "base_uri": "https://localhost:8080/"
        },
        "outputId": "7189e605-88a3-44ec-8635-a792e3f2de2f"
      },
      "outputs": [
        {
          "output_type": "stream",
          "name": "stdout",
          "text": [
            "Collecting pyspark\n",
            "  Downloading pyspark-3.2.0.tar.gz (281.3 MB)\n",
            "\u001b[K     |████████████████████████████████| 281.3 MB 40 kB/s \n",
            "\u001b[?25hCollecting py4j==0.10.9.2\n",
            "  Downloading py4j-0.10.9.2-py2.py3-none-any.whl (198 kB)\n",
            "\u001b[K     |████████████████████████████████| 198 kB 31.4 MB/s \n",
            "\u001b[?25hBuilding wheels for collected packages: pyspark\n",
            "  Building wheel for pyspark (setup.py) ... \u001b[?25l\u001b[?25hdone\n",
            "  Created wheel for pyspark: filename=pyspark-3.2.0-py2.py3-none-any.whl size=281805911 sha256=094a92308125a02681ebf4c47818dbcc728c9422598a2806401a3675fe552c76\n",
            "  Stored in directory: /root/.cache/pip/wheels/0b/de/d2/9be5d59d7331c6c2a7c1b6d1a4f463ce107332b1ecd4e80718\n",
            "Successfully built pyspark\n",
            "Installing collected packages: py4j, pyspark\n",
            "Successfully installed py4j-0.10.9.2 pyspark-3.2.0\n"
          ]
        }
      ],
      "source": [
        "!pip install pyspark"
      ]
    },
    {
      "cell_type": "code",
      "source": [
        "from google.colab import files"
      ],
      "metadata": {
        "id": "vwY28-ywdhOs"
      },
      "execution_count": null,
      "outputs": []
    },
    {
      "cell_type": "code",
      "source": [
        "file = files.upload()"
      ],
      "metadata": {
        "id": "3GHXR_dzeD9z",
        "outputId": "edbb633a-4df8-4074-c40b-557e2c5cf30d",
        "colab": {
          "base_uri": "https://localhost:8080/",
          "height": 332,
          "resources": {
            "http://localhost:8080/nbextensions/google.colab/files.js": {
              "data": "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",
              "ok": true,
              "headers": [
                [
                  "content-type",
                  "application/javascript"
                ]
              ],
              "status": 200,
              "status_text": ""
            }
          }
        }
      },
      "execution_count": null,
      "outputs": [
        {
          "output_type": "display_data",
          "data": {
            "text/html": [
              "\n",
              "     <input type=\"file\" id=\"files-ad42a926-7be1-47eb-b5b7-1860d7cef5ef\" name=\"files[]\" multiple disabled\n",
              "        style=\"border:none\" />\n",
              "     <output id=\"result-ad42a926-7be1-47eb-b5b7-1860d7cef5ef\">\n",
              "      Upload widget is only available when the cell has been executed in the\n",
              "      current browser session. Please rerun this cell to enable.\n",
              "      </output>\n",
              "      <script src=\"/nbextensions/google.colab/files.js\"></script> "
            ],
            "text/plain": [
              "<IPython.core.display.HTML object>"
            ]
          },
          "metadata": {}
        },
        {
          "output_type": "error",
          "ename": "KeyboardInterrupt",
          "evalue": "ignored",
          "traceback": [
            "\u001b[0;31m---------------------------------------------------------------------------\u001b[0m",
            "\u001b[0;31mKeyboardInterrupt\u001b[0m                         Traceback (most recent call last)",
            "\u001b[0;32m<ipython-input-4-0bd6b3c1ca10>\u001b[0m in \u001b[0;36m<module>\u001b[0;34m()\u001b[0m\n\u001b[0;32m----> 1\u001b[0;31m \u001b[0mfile\u001b[0m \u001b[0;34m=\u001b[0m \u001b[0mfiles\u001b[0m\u001b[0;34m.\u001b[0m\u001b[0mupload\u001b[0m\u001b[0;34m(\u001b[0m\u001b[0;34m)\u001b[0m\u001b[0;34m\u001b[0m\u001b[0;34m\u001b[0m\u001b[0m\n\u001b[0m",
            "\u001b[0;32m/usr/local/lib/python3.7/dist-packages/google/colab/files.py\u001b[0m in \u001b[0;36mupload\u001b[0;34m()\u001b[0m\n\u001b[1;32m     61\u001b[0m   result = _output.eval_js(\n\u001b[1;32m     62\u001b[0m       'google.colab._files._uploadFiles(\"{input_id}\", \"{output_id}\")'.format(\n\u001b[0;32m---> 63\u001b[0;31m           input_id=input_id, output_id=output_id))\n\u001b[0m\u001b[1;32m     64\u001b[0m   \u001b[0mfiles\u001b[0m \u001b[0;34m=\u001b[0m \u001b[0m_collections\u001b[0m\u001b[0;34m.\u001b[0m\u001b[0mdefaultdict\u001b[0m\u001b[0;34m(\u001b[0m\u001b[0m_six\u001b[0m\u001b[0;34m.\u001b[0m\u001b[0mbinary_type\u001b[0m\u001b[0;34m)\u001b[0m\u001b[0;34m\u001b[0m\u001b[0;34m\u001b[0m\u001b[0m\n\u001b[1;32m     65\u001b[0m   \u001b[0;31m# Mapping from original filename to filename as saved locally.\u001b[0m\u001b[0;34m\u001b[0m\u001b[0;34m\u001b[0m\u001b[0;34m\u001b[0m\u001b[0m\n",
            "\u001b[0;32m/usr/local/lib/python3.7/dist-packages/google/colab/output/_js.py\u001b[0m in \u001b[0;36meval_js\u001b[0;34m(script, ignore_result, timeout_sec)\u001b[0m\n\u001b[1;32m     38\u001b[0m   \u001b[0;32mif\u001b[0m \u001b[0mignore_result\u001b[0m\u001b[0;34m:\u001b[0m\u001b[0;34m\u001b[0m\u001b[0;34m\u001b[0m\u001b[0m\n\u001b[1;32m     39\u001b[0m     \u001b[0;32mreturn\u001b[0m\u001b[0;34m\u001b[0m\u001b[0;34m\u001b[0m\u001b[0m\n\u001b[0;32m---> 40\u001b[0;31m   \u001b[0;32mreturn\u001b[0m \u001b[0m_message\u001b[0m\u001b[0;34m.\u001b[0m\u001b[0mread_reply_from_input\u001b[0m\u001b[0;34m(\u001b[0m\u001b[0mrequest_id\u001b[0m\u001b[0;34m,\u001b[0m \u001b[0mtimeout_sec\u001b[0m\u001b[0;34m)\u001b[0m\u001b[0;34m\u001b[0m\u001b[0;34m\u001b[0m\u001b[0m\n\u001b[0m\u001b[1;32m     41\u001b[0m \u001b[0;34m\u001b[0m\u001b[0m\n\u001b[1;32m     42\u001b[0m \u001b[0;34m\u001b[0m\u001b[0m\n",
            "\u001b[0;32m/usr/local/lib/python3.7/dist-packages/google/colab/_message.py\u001b[0m in \u001b[0;36mread_reply_from_input\u001b[0;34m(message_id, timeout_sec)\u001b[0m\n\u001b[1;32m     99\u001b[0m     \u001b[0mreply\u001b[0m \u001b[0;34m=\u001b[0m \u001b[0m_read_next_input_message\u001b[0m\u001b[0;34m(\u001b[0m\u001b[0;34m)\u001b[0m\u001b[0;34m\u001b[0m\u001b[0;34m\u001b[0m\u001b[0m\n\u001b[1;32m    100\u001b[0m     \u001b[0;32mif\u001b[0m \u001b[0mreply\u001b[0m \u001b[0;34m==\u001b[0m \u001b[0m_NOT_READY\u001b[0m \u001b[0;32mor\u001b[0m \u001b[0;32mnot\u001b[0m \u001b[0misinstance\u001b[0m\u001b[0;34m(\u001b[0m\u001b[0mreply\u001b[0m\u001b[0;34m,\u001b[0m \u001b[0mdict\u001b[0m\u001b[0;34m)\u001b[0m\u001b[0;34m:\u001b[0m\u001b[0;34m\u001b[0m\u001b[0;34m\u001b[0m\u001b[0m\n\u001b[0;32m--> 101\u001b[0;31m       \u001b[0mtime\u001b[0m\u001b[0;34m.\u001b[0m\u001b[0msleep\u001b[0m\u001b[0;34m(\u001b[0m\u001b[0;36m0.025\u001b[0m\u001b[0;34m)\u001b[0m\u001b[0;34m\u001b[0m\u001b[0;34m\u001b[0m\u001b[0m\n\u001b[0m\u001b[1;32m    102\u001b[0m       \u001b[0;32mcontinue\u001b[0m\u001b[0;34m\u001b[0m\u001b[0;34m\u001b[0m\u001b[0m\n\u001b[1;32m    103\u001b[0m     if (reply.get('type') == 'colab_reply' and\n",
            "\u001b[0;31mKeyboardInterrupt\u001b[0m: "
          ]
        }
      ]
    },
    {
      "cell_type": "code",
      "source": [
        "from pyspark.sql import SparkSession"
      ],
      "metadata": {
        "id": "a99RDXRdkGzt"
      },
      "execution_count": null,
      "outputs": []
    },
    {
      "cell_type": "code",
      "source": [
        "spark = SparkSession.builder.appName(\"Spark practice\").getOrCreate()"
      ],
      "metadata": {
        "id": "KkrM_hhLkW8V"
      },
      "execution_count": null,
      "outputs": []
    },
    {
      "cell_type": "code",
      "source": [
        "spark"
      ],
      "metadata": {
        "colab": {
          "base_uri": "https://localhost:8080/",
          "height": 219
        },
        "id": "pgLsA4dZiewp",
        "outputId": "cd6f4a6a-d42c-4af6-f90b-2c46fbedfb52"
      },
      "execution_count": null,
      "outputs": [
        {
          "output_type": "execute_result",
          "data": {
            "text/html": [
              "\n",
              "            <div>\n",
              "                <p><b>SparkSession - in-memory</b></p>\n",
              "                \n",
              "        <div>\n",
              "            <p><b>SparkContext</b></p>\n",
              "\n",
              "            <p><a href=\"http://972539c9eb32:4040\">Spark UI</a></p>\n",
              "\n",
              "            <dl>\n",
              "              <dt>Version</dt>\n",
              "                <dd><code>v3.2.0</code></dd>\n",
              "              <dt>Master</dt>\n",
              "                <dd><code>local[*]</code></dd>\n",
              "              <dt>AppName</dt>\n",
              "                <dd><code>Spark practice</code></dd>\n",
              "            </dl>\n",
              "        </div>\n",
              "        \n",
              "            </div>\n",
              "        "
            ],
            "text/plain": [
              "<pyspark.sql.session.SparkSession at 0x7ff45b6ffe10>"
            ]
          },
          "metadata": {},
          "execution_count": 7
        }
      ]
    },
    {
      "cell_type": "code",
      "source": [
        "!head -n5 /content/drive/MyDrive/Spark_data/cars.csv"
      ],
      "metadata": {
        "colab": {
          "base_uri": "https://localhost:8080/"
        },
        "id": "lxYTqPVJk36D",
        "outputId": "2d697e6d-2003-4883-df94-83ccfb13d592"
      },
      "execution_count": null,
      "outputs": [
        {
          "output_type": "stream",
          "name": "stdout",
          "text": [
            "manufacturer_name,model_name,transmission,color,odometer_value,year_produced,engine_fuel,engine_has_gas,engine_type,engine_capacity,body_type,has_warranty,state,drivetrain,price_usd,is_exchangeable,location_region,number_of_photos,up_counter,feature_0,feature_1,feature_2,feature_3,feature_4,feature_5,feature_6,feature_7,feature_8,feature_9,duration_listed\r\n",
            "Subaru,Outback,automatic,silver,190000,2010,gasoline,False,gasoline,2.5,universal,False,owned,all,10900.0,False,Минская обл.,9,13,False,True,True,True,False,True,False,True,True,True,16\r\n",
            "Subaru,Outback,automatic,blue,290000,2002,gasoline,False,gasoline,3.0,universal,False,owned,all,5000.0,True,Минская обл.,12,54,False,True,False,False,True,True,False,False,False,True,83\r\n",
            "Subaru,Forester,automatic,red,402000,2001,gasoline,False,gasoline,2.5,suv,False,owned,all,2800.0,True,Минская обл.,4,72,False,True,False,False,False,False,False,False,True,True,151\r\n",
            "Subaru,Impreza,mechanical,blue,10000,1999,gasoline,False,gasoline,3.0,sedan,False,owned,all,9999.0,True,Минская обл.,9,42,True,False,False,False,False,False,False,False,False,False,86\r\n"
          ]
        }
      ]
    },
    {
      "cell_type": "code",
      "source": [
        "cars = \"/content/drive/MyDrive/Spark_data/cars.csv\""
      ],
      "metadata": {
        "id": "riqIvsszhuEZ"
      },
      "execution_count": null,
      "outputs": []
    },
    {
      "cell_type": "code",
      "source": [
        "df = spark.read.format(\"csv\") \\\n",
        "    .option(\"header\", \"true\") \\\n",
        "    .load(cars)"
      ],
      "metadata": {
        "id": "h8gzm4WLlU7a"
      },
      "execution_count": null,
      "outputs": []
    },
    {
      "cell_type": "code",
      "source": [
        "df.show(3)"
      ],
      "metadata": {
        "colab": {
          "base_uri": "https://localhost:8080/"
        },
        "id": "Fb-GbiFxl-Ev",
        "outputId": "fdd3e77b-37b7-448f-80fb-e2f7d5f94fd2"
      },
      "execution_count": null,
      "outputs": [
        {
          "output_type": "stream",
          "name": "stdout",
          "text": [
            "+-----------------+----------+------------+------+--------------+-------------+-----------+--------------+-----------+---------------+---------+------------+-----+----------+---------+---------------+---------------+----------------+----------+---------+---------+---------+---------+---------+---------+---------+---------+---------+---------+---------------+\n",
            "|manufacturer_name|model_name|transmission| color|odometer_value|year_produced|engine_fuel|engine_has_gas|engine_type|engine_capacity|body_type|has_warranty|state|drivetrain|price_usd|is_exchangeable|location_region|number_of_photos|up_counter|feature_0|feature_1|feature_2|feature_3|feature_4|feature_5|feature_6|feature_7|feature_8|feature_9|duration_listed|\n",
            "+-----------------+----------+------------+------+--------------+-------------+-----------+--------------+-----------+---------------+---------+------------+-----+----------+---------+---------------+---------------+----------------+----------+---------+---------+---------+---------+---------+---------+---------+---------+---------+---------+---------------+\n",
            "|           Subaru|   Outback|   automatic|silver|        190000|         2010|   gasoline|         False|   gasoline|            2.5|universal|       False|owned|       all|  10900.0|          False|   Минская обл.|               9|        13|    False|     True|     True|     True|    False|     True|    False|     True|     True|     True|             16|\n",
            "|           Subaru|   Outback|   automatic|  blue|        290000|         2002|   gasoline|         False|   gasoline|            3.0|universal|       False|owned|       all|   5000.0|           True|   Минская обл.|              12|        54|    False|     True|    False|    False|     True|     True|    False|    False|    False|     True|             83|\n",
            "|           Subaru|  Forester|   automatic|   red|        402000|         2001|   gasoline|         False|   gasoline|            2.5|      suv|       False|owned|       all|   2800.0|           True|   Минская обл.|               4|        72|    False|     True|    False|    False|    False|    False|    False|    False|     True|     True|            151|\n",
            "+-----------------+----------+------------+------+--------------+-------------+-----------+--------------+-----------+---------------+---------+------------+-----+----------+---------+---------------+---------------+----------------+----------+---------+---------+---------+---------+---------+---------+---------+---------+---------+---------+---------------+\n",
            "only showing top 3 rows\n",
            "\n"
          ]
        }
      ]
    },
    {
      "cell_type": "code",
      "source": [
        "df.show(1, vertical=True)"
      ],
      "metadata": {
        "colab": {
          "base_uri": "https://localhost:8080/"
        },
        "id": "T16Dx_ZXmB2O",
        "outputId": "bae54870-90fe-4fd7-bd31-d57ceaa118ef"
      },
      "execution_count": null,
      "outputs": [
        {
          "output_type": "stream",
          "name": "stdout",
          "text": [
            "-RECORD 0-------------------------\n",
            " manufacturer_name | Subaru       \n",
            " model_name        | Outback      \n",
            " transmission      | automatic    \n",
            " color             | silver       \n",
            " odometer_value    | 190000       \n",
            " year_produced     | 2010         \n",
            " engine_fuel       | gasoline     \n",
            " engine_has_gas    | False        \n",
            " engine_type       | gasoline     \n",
            " engine_capacity   | 2.5          \n",
            " body_type         | universal    \n",
            " has_warranty      | False        \n",
            " state             | owned        \n",
            " drivetrain        | all          \n",
            " price_usd         | 10900.0      \n",
            " is_exchangeable   | False        \n",
            " location_region   | Минская обл. \n",
            " number_of_photos  | 9            \n",
            " up_counter        | 13           \n",
            " feature_0         | False        \n",
            " feature_1         | True         \n",
            " feature_2         | True         \n",
            " feature_3         | True         \n",
            " feature_4         | False        \n",
            " feature_5         | True         \n",
            " feature_6         | False        \n",
            " feature_7         | True         \n",
            " feature_8         | True         \n",
            " feature_9         | True         \n",
            " duration_listed   | 16           \n",
            "only showing top 1 row\n",
            "\n"
          ]
        }
      ]
    },
    {
      "cell_type": "code",
      "source": [
        "df.select(\"manufacturer_name\", \"model_name\").show(5)"
      ],
      "metadata": {
        "id": "xBKZaavTmdN-",
        "colab": {
          "base_uri": "https://localhost:8080/"
        },
        "outputId": "17127603-e326-4dad-dcf8-c013e8159845"
      },
      "execution_count": null,
      "outputs": [
        {
          "output_type": "stream",
          "name": "stdout",
          "text": [
            "+-----------------+----------+\n",
            "|manufacturer_name|model_name|\n",
            "+-----------------+----------+\n",
            "|           Subaru|   Outback|\n",
            "|           Subaru|   Outback|\n",
            "|           Subaru|  Forester|\n",
            "|           Subaru|   Impreza|\n",
            "|           Subaru|    Legacy|\n",
            "+-----------------+----------+\n",
            "only showing top 5 rows\n",
            "\n"
          ]
        }
      ]
    },
    {
      "cell_type": "code",
      "source": [
        "df.head()"
      ],
      "metadata": {
        "colab": {
          "base_uri": "https://localhost:8080/"
        },
        "id": "MK_eKhcv7OVo",
        "outputId": "7b9a1706-fc4e-493d-c4d1-719182719bbb"
      },
      "execution_count": null,
      "outputs": [
        {
          "output_type": "execute_result",
          "data": {
            "text/plain": [
              "Row(manufacturer_name='Subaru', model_name='Outback', transmission='automatic', color='silver', odometer_value='190000', year_produced='2010', engine_fuel='gasoline', engine_has_gas='False', engine_type='gasoline', engine_capacity='2.5', body_type='universal', has_warranty='False', state='owned', drivetrain='all', price_usd='10900.0', is_exchangeable='False', location_region='Минская обл.', number_of_photos='9', up_counter='13', feature_0='False', feature_1='True', feature_2='True', feature_3='True', feature_4='False', feature_5='True', feature_6='False', feature_7='True', feature_8='True', feature_9='True', duration_listed='16')"
            ]
          },
          "metadata": {},
          "execution_count": 16
        }
      ]
    },
    {
      "cell_type": "markdown",
      "source": [
        "import functions as F -->\n",
        "F.col"
      ],
      "metadata": {
        "id": "RPc4JgPvUjzs"
      }
    },
    {
      "cell_type": "code",
      "source": [
        "from pyspark.sql import functions as F\n",
        "df.select(F.col(\"manufacturer_name\"), F.col(\"model_name\")).show(5)"
      ],
      "metadata": {
        "colab": {
          "base_uri": "https://localhost:8080/"
        },
        "id": "OUCc8ee07k9-",
        "outputId": "b4940cf4-6191-4274-e6cb-4eb4d2248f13"
      },
      "execution_count": null,
      "outputs": [
        {
          "output_type": "stream",
          "name": "stdout",
          "text": [
            "+-----------------+----------+\n",
            "|manufacturer_name|model_name|\n",
            "+-----------------+----------+\n",
            "|           Subaru|   Outback|\n",
            "|           Subaru|   Outback|\n",
            "|           Subaru|  Forester|\n",
            "|           Subaru|   Impreza|\n",
            "|           Subaru|    Legacy|\n",
            "+-----------------+----------+\n",
            "only showing top 5 rows\n",
            "\n"
          ]
        }
      ]
    },
    {
      "cell_type": "markdown",
      "source": [
        ".FILTER"
      ],
      "metadata": {
        "id": "BJw7xZYsUfXu"
      }
    },
    {
      "cell_type": "code",
      "source": [
        "df.select(F.col(\"manufacturer_name\"), F.col(\"model_name\")).filter(\"manufacturer_name = 'Audi'\").show(5)"
      ],
      "metadata": {
        "colab": {
          "base_uri": "https://localhost:8080/"
        },
        "id": "RTP9eXyc8VRU",
        "outputId": "7a64815e-e16f-431c-8e25-7c647d3ff63f"
      },
      "execution_count": null,
      "outputs": [
        {
          "output_type": "stream",
          "name": "stdout",
          "text": [
            "+-----------------+----------+\n",
            "|manufacturer_name|model_name|\n",
            "+-----------------+----------+\n",
            "|             Audi|        Q7|\n",
            "|             Audi|        TT|\n",
            "|             Audi|       100|\n",
            "|             Audi|        A6|\n",
            "|             Audi|        Q3|\n",
            "+-----------------+----------+\n",
            "only showing top 5 rows\n",
            "\n"
          ]
        }
      ]
    },
    {
      "cell_type": "code",
      "source": [
        "df\\\n",
        "  .select(F.col(\"manufacturer_name\"), F.col(\"model_name\"), F.col(\"transmission\"))\\\n",
        "  .filter(\"manufacturer_name = 'Audi' and transmission = 'mechanical'\")\\\n",
        "  .show(5)"
      ],
      "metadata": {
        "colab": {
          "base_uri": "https://localhost:8080/"
        },
        "id": "2vaU-GHH913L",
        "outputId": "9e9f1aa0-878b-408b-cdf1-81faf2b91299"
      },
      "execution_count": null,
      "outputs": [
        {
          "output_type": "stream",
          "name": "stdout",
          "text": [
            "+-----------------+----------+------------+\n",
            "|manufacturer_name|model_name|transmission|\n",
            "+-----------------+----------+------------+\n",
            "|             Audi|       100|  mechanical|\n",
            "|             Audi|A6 Allroad|  mechanical|\n",
            "|             Audi|       100|  mechanical|\n",
            "|             Audi|        A4|  mechanical|\n",
            "|             Audi|        80|  mechanical|\n",
            "+-----------------+----------+------------+\n",
            "only showing top 5 rows\n",
            "\n"
          ]
        }
      ]
    },
    {
      "cell_type": "code",
      "source": [
        "df\\\n",
        "  .select(F.col(\"manufacturer_name\"), F.col(\"model_name\"), F.col(\"transmission\"))\\\n",
        "  .filter(\"manufacturer_name = 'Audi' and transmission = 'mechanical'\")\\\n",
        "  .filter(\"model_name = '100'\")\\\n",
        "  .show(5)"
      ],
      "metadata": {
        "colab": {
          "base_uri": "https://localhost:8080/"
        },
        "id": "Px4ZTkRd_tp_",
        "outputId": "0887c9b6-0073-4434-f5ff-8543c01838ed"
      },
      "execution_count": null,
      "outputs": [
        {
          "output_type": "stream",
          "name": "stdout",
          "text": [
            "+-----------------+----------+------------+\n",
            "|manufacturer_name|model_name|transmission|\n",
            "+-----------------+----------+------------+\n",
            "|             Audi|       100|  mechanical|\n",
            "|             Audi|       100|  mechanical|\n",
            "|             Audi|       100|  mechanical|\n",
            "|             Audi|       100|  mechanical|\n",
            "|             Audi|       100|  mechanical|\n",
            "+-----------------+----------+------------+\n",
            "only showing top 5 rows\n",
            "\n"
          ]
        }
      ]
    },
    {
      "cell_type": "code",
      "source": [
        "df\\\n",
        "  .select(F.col(\"manufacturer_name\"), F.col(\"model_name\"), F.col(\"transmission\"))\\\n",
        "  .filter(F.col(\"manufacturer_name\") == 'Audi')\\\n",
        "  .filter(F.col(\"model_name\") == '100')\\\n",
        "  .show(10)"
      ],
      "metadata": {
        "colab": {
          "base_uri": "https://localhost:8080/"
        },
        "id": "uMtN2W-GSf-k",
        "outputId": "3998c255-3eee-452c-9b67-bad61354a774"
      },
      "execution_count": null,
      "outputs": [
        {
          "output_type": "stream",
          "name": "stdout",
          "text": [
            "+-----------------+----------+------------+\n",
            "|manufacturer_name|model_name|transmission|\n",
            "+-----------------+----------+------------+\n",
            "|             Audi|       100|  mechanical|\n",
            "|             Audi|       100|  mechanical|\n",
            "|             Audi|       100|  mechanical|\n",
            "|             Audi|       100|  mechanical|\n",
            "|             Audi|       100|  mechanical|\n",
            "|             Audi|       100|  mechanical|\n",
            "|             Audi|       100|  mechanical|\n",
            "|             Audi|       100|  mechanical|\n",
            "|             Audi|       100|  mechanical|\n",
            "|             Audi|       100|  mechanical|\n",
            "+-----------------+----------+------------+\n",
            "only showing top 10 rows\n",
            "\n"
          ]
        }
      ]
    },
    {
      "cell_type": "markdown",
      "source": [
        ".COUNT()"
      ],
      "metadata": {
        "id": "aViWJ5a5U9Hz"
      }
    },
    {
      "cell_type": "code",
      "source": [
        "df.count()"
      ],
      "metadata": {
        "colab": {
          "base_uri": "https://localhost:8080/"
        },
        "id": "QEwruSBpTMBL",
        "outputId": "547a2715-1b1a-440a-f297-82a977077a78"
      },
      "execution_count": null,
      "outputs": [
        {
          "output_type": "execute_result",
          "data": {
            "text/plain": [
              "38531"
            ]
          },
          "metadata": {},
          "execution_count": 22
        }
      ]
    },
    {
      "cell_type": "code",
      "source": [
        "df.select(F.col(\"manufacturer_name\")).distinct().count()"
      ],
      "metadata": {
        "colab": {
          "base_uri": "https://localhost:8080/"
        },
        "id": "-qfacFVdUYjg",
        "outputId": "52dd56f1-1ac3-43e2-f9f9-cb31f0898c3a"
      },
      "execution_count": null,
      "outputs": [
        {
          "output_type": "execute_result",
          "data": {
            "text/plain": [
              "55"
            ]
          },
          "metadata": {},
          "execution_count": 23
        }
      ]
    },
    {
      "cell_type": "markdown",
      "source": [
        ".GroupBy()     .OrderBy()"
      ],
      "metadata": {
        "id": "reekWrhnV7aT"
      }
    },
    {
      "cell_type": "code",
      "source": [
        "df.groupby(\"manufacturer_name\").count().show()"
      ],
      "metadata": {
        "colab": {
          "base_uri": "https://localhost:8080/"
        },
        "id": "k6GGTHr-WCrD",
        "outputId": "41b579f5-def7-4758-a576-2448ad3a40aa"
      },
      "execution_count": null,
      "outputs": [
        {
          "output_type": "stream",
          "name": "stdout",
          "text": [
            "+-----------------+-----+\n",
            "|manufacturer_name|count|\n",
            "+-----------------+-----+\n",
            "|       Volkswagen| 4243|\n",
            "|            Lexus|  213|\n",
            "|           Jaguar|   53|\n",
            "|            Rover|  235|\n",
            "|           Lancia|   92|\n",
            "|             Jeep|  107|\n",
            "|       Mitsubishi|  887|\n",
            "|              ГАЗ|  200|\n",
            "|              Kia|  912|\n",
            "|             Mini|   68|\n",
            "|        Chevrolet|  436|\n",
            "|            Volvo|  721|\n",
            "|            Lifan|   47|\n",
            "|          Hyundai| 1116|\n",
            "|             LADA|  146|\n",
            "|        SsangYong|   79|\n",
            "|             Audi| 2468|\n",
            "|             Seat|  303|\n",
            "|         Cadillac|   43|\n",
            "|          Pontiac|   42|\n",
            "+-----------------+-----+\n",
            "only showing top 20 rows\n",
            "\n"
          ]
        }
      ]
    },
    {
      "cell_type": "code",
      "source": [
        "df.groupby(\"manufacturer_name\").count().orderBy(\"count\").show(5)"
      ],
      "metadata": {
        "colab": {
          "base_uri": "https://localhost:8080/"
        },
        "id": "XORBKAm4WbPm",
        "outputId": "983e9361-1884-4253-9c2d-c51062e85e80"
      },
      "execution_count": null,
      "outputs": [
        {
          "output_type": "stream",
          "name": "stdout",
          "text": [
            "+-----------------+-----+\n",
            "|manufacturer_name|count|\n",
            "+-----------------+-----+\n",
            "|       Great Wall|   36|\n",
            "|          Lincoln|   36|\n",
            "|              ЗАЗ|   42|\n",
            "|          Pontiac|   42|\n",
            "|         Cadillac|   43|\n",
            "+-----------------+-----+\n",
            "only showing top 5 rows\n",
            "\n"
          ]
        }
      ]
    },
    {
      "cell_type": "code",
      "source": [
        "df.groupby(\"manufacturer_name\").count().orderBy(F.col(\"count\").desc()).show(5)"
      ],
      "metadata": {
        "colab": {
          "base_uri": "https://localhost:8080/"
        },
        "id": "B7sDCjkKXIt0",
        "outputId": "edc4c9ce-422b-499c-cfbe-9492587a1504"
      },
      "execution_count": null,
      "outputs": [
        {
          "output_type": "stream",
          "name": "stdout",
          "text": [
            "+-----------------+-----+\n",
            "|manufacturer_name|count|\n",
            "+-----------------+-----+\n",
            "|       Volkswagen| 4243|\n",
            "|             Opel| 2759|\n",
            "|              BMW| 2610|\n",
            "|             Ford| 2566|\n",
            "|          Renault| 2493|\n",
            "+-----------------+-----+\n",
            "only showing top 5 rows\n",
            "\n"
          ]
        }
      ]
    },
    {
      "cell_type": "markdown",
      "source": [
        ".withColumnRenamed()"
      ],
      "metadata": {
        "id": "S2KRadg0m6F8"
      }
    },
    {
      "cell_type": "code",
      "source": [
        "df.withColumnRenamed(\"manufacturer_name\", \"marka\").show(5)"
      ],
      "metadata": {
        "colab": {
          "base_uri": "https://localhost:8080/"
        },
        "id": "-fcKDxDKXNW6",
        "outputId": "14806df3-c861-4344-e07d-0d6925237258"
      },
      "execution_count": null,
      "outputs": [
        {
          "output_type": "stream",
          "name": "stdout",
          "text": [
            "+------+----------+------------+------+--------------+-------------+-----------+--------------+-----------+---------------+---------+------------+-----+----------+---------+---------------+---------------+----------------+----------+---------+---------+---------+---------+---------+---------+---------+---------+---------+---------+---------------+\n",
            "| marka|model_name|transmission| color|odometer_value|year_produced|engine_fuel|engine_has_gas|engine_type|engine_capacity|body_type|has_warranty|state|drivetrain|price_usd|is_exchangeable|location_region|number_of_photos|up_counter|feature_0|feature_1|feature_2|feature_3|feature_4|feature_5|feature_6|feature_7|feature_8|feature_9|duration_listed|\n",
            "+------+----------+------------+------+--------------+-------------+-----------+--------------+-----------+---------------+---------+------------+-----+----------+---------+---------------+---------------+----------------+----------+---------+---------+---------+---------+---------+---------+---------+---------+---------+---------+---------------+\n",
            "|Subaru|   Outback|   automatic|silver|        190000|         2010|   gasoline|         False|   gasoline|            2.5|universal|       False|owned|       all|  10900.0|          False|   Минская обл.|               9|        13|    False|     True|     True|     True|    False|     True|    False|     True|     True|     True|             16|\n",
            "|Subaru|   Outback|   automatic|  blue|        290000|         2002|   gasoline|         False|   gasoline|            3.0|universal|       False|owned|       all|   5000.0|           True|   Минская обл.|              12|        54|    False|     True|    False|    False|     True|     True|    False|    False|    False|     True|             83|\n",
            "|Subaru|  Forester|   automatic|   red|        402000|         2001|   gasoline|         False|   gasoline|            2.5|      suv|       False|owned|       all|   2800.0|           True|   Минская обл.|               4|        72|    False|     True|    False|    False|    False|    False|    False|    False|     True|     True|            151|\n",
            "|Subaru|   Impreza|  mechanical|  blue|         10000|         1999|   gasoline|         False|   gasoline|            3.0|    sedan|       False|owned|       all|   9999.0|           True|   Минская обл.|               9|        42|     True|    False|    False|    False|    False|    False|    False|    False|    False|    False|             86|\n",
            "|Subaru|    Legacy|   automatic| black|        280000|         2001|   gasoline|         False|   gasoline|            2.5|universal|       False|owned|       all|  2134.11|           True|Гомельская обл.|              14|         7|    False|     True|    False|     True|     True|    False|    False|    False|    False|     True|              7|\n",
            "+------+----------+------------+------+--------------+-------------+-----------+--------------+-----------+---------------+---------+------------+-----+----------+---------+---------------+---------------+----------------+----------+---------+---------+---------+---------+---------+---------+---------+---------+---------+---------+---------------+\n",
            "only showing top 5 rows\n",
            "\n"
          ]
        }
      ]
    },
    {
      "cell_type": "code",
      "source": [
        "df\\\n",
        "  .withColumnRenamed(\"manufacturer_name\", \"marka\")\\\n",
        "  .select(\"marka\", \"model_name\", \"year_produced\")\\\n",
        "  .show(5)"
      ],
      "metadata": {
        "colab": {
          "base_uri": "https://localhost:8080/"
        },
        "id": "E5mbMcapsf4P",
        "outputId": "d3e45247-dfc8-42ee-d7d0-62993b90e2fd"
      },
      "execution_count": null,
      "outputs": [
        {
          "output_type": "stream",
          "name": "stdout",
          "text": [
            "+------+----------+-------------+\n",
            "| marka|model_name|year_produced|\n",
            "+------+----------+-------------+\n",
            "|Subaru|   Outback|         2010|\n",
            "|Subaru|   Outback|         2002|\n",
            "|Subaru|  Forester|         2001|\n",
            "|Subaru|   Impreza|         1999|\n",
            "|Subaru|    Legacy|         2001|\n",
            "+------+----------+-------------+\n",
            "only showing top 5 rows\n",
            "\n"
          ]
        }
      ]
    },
    {
      "cell_type": "markdown",
      "source": [
        ".withColumn()"
      ],
      "metadata": {
        "id": "WpQz8EksnlE5"
      }
    },
    {
      "cell_type": "code",
      "source": [
        "df.withColumn(\"next_year\", F.col(\"year_produced\") + 1).select(\"manufacturer_name\", \"model_name\", \"year_produced\", \"next_year\").show(5)"
      ],
      "metadata": {
        "colab": {
          "base_uri": "https://localhost:8080/"
        },
        "id": "cXhPEsGxnp6B",
        "outputId": "75a06093-646a-4b19-fbb3-6553afc6d5f3"
      },
      "execution_count": null,
      "outputs": [
        {
          "output_type": "stream",
          "name": "stdout",
          "text": [
            "+-----------------+----------+-------------+---------+\n",
            "|manufacturer_name|model_name|year_produced|next_year|\n",
            "+-----------------+----------+-------------+---------+\n",
            "|           Subaru|   Outback|         2010|   2011.0|\n",
            "|           Subaru|   Outback|         2002|   2003.0|\n",
            "|           Subaru|  Forester|         2001|   2002.0|\n",
            "|           Subaru|   Impreza|         1999|   2000.0|\n",
            "|           Subaru|    Legacy|         2001|   2002.0|\n",
            "+-----------------+----------+-------------+---------+\n",
            "only showing top 5 rows\n",
            "\n"
          ]
        }
      ]
    },
    {
      "cell_type": "markdown",
      "source": [
        "df.printSchema()"
      ],
      "metadata": {
        "id": "1cSMb_L_tJy3"
      }
    },
    {
      "cell_type": "code",
      "source": [
        "df.printSchema()"
      ],
      "metadata": {
        "colab": {
          "base_uri": "https://localhost:8080/"
        },
        "id": "td12F0u7sOO8",
        "outputId": "0ac9fe63-ae20-4486-95f3-a47914799d57"
      },
      "execution_count": null,
      "outputs": [
        {
          "output_type": "stream",
          "name": "stdout",
          "text": [
            "root\n",
            " |-- manufacturer_name: string (nullable = true)\n",
            " |-- model_name: string (nullable = true)\n",
            " |-- transmission: string (nullable = true)\n",
            " |-- color: string (nullable = true)\n",
            " |-- odometer_value: string (nullable = true)\n",
            " |-- year_produced: string (nullable = true)\n",
            " |-- engine_fuel: string (nullable = true)\n",
            " |-- engine_has_gas: string (nullable = true)\n",
            " |-- engine_type: string (nullable = true)\n",
            " |-- engine_capacity: string (nullable = true)\n",
            " |-- body_type: string (nullable = true)\n",
            " |-- has_warranty: string (nullable = true)\n",
            " |-- state: string (nullable = true)\n",
            " |-- drivetrain: string (nullable = true)\n",
            " |-- price_usd: string (nullable = true)\n",
            " |-- is_exchangeable: string (nullable = true)\n",
            " |-- location_region: string (nullable = true)\n",
            " |-- number_of_photos: string (nullable = true)\n",
            " |-- up_counter: string (nullable = true)\n",
            " |-- feature_0: string (nullable = true)\n",
            " |-- feature_1: string (nullable = true)\n",
            " |-- feature_2: string (nullable = true)\n",
            " |-- feature_3: string (nullable = true)\n",
            " |-- feature_4: string (nullable = true)\n",
            " |-- feature_5: string (nullable = true)\n",
            " |-- feature_6: string (nullable = true)\n",
            " |-- feature_7: string (nullable = true)\n",
            " |-- feature_8: string (nullable = true)\n",
            " |-- feature_9: string (nullable = true)\n",
            " |-- duration_listed: string (nullable = true)\n",
            "\n"
          ]
        }
      ]
    },
    {
      "cell_type": "markdown",
      "source": [
        "df.describe()"
      ],
      "metadata": {
        "id": "ixwP3kdDtWJg"
      }
    },
    {
      "cell_type": "code",
      "source": [
        "df.describe().show()"
      ],
      "metadata": {
        "colab": {
          "base_uri": "https://localhost:8080/"
        },
        "id": "lwZwIhijtPlz",
        "outputId": "6e211a63-6261-4550-da31-7dc95fe2347d"
      },
      "execution_count": null,
      "outputs": [
        {
          "output_type": "stream",
          "name": "stdout",
          "text": [
            "+-------+-----------------+------------------+------------+------+------------------+------------------+-------------+--------------+-----------+------------------+---------+------------+---------+----------+-----------------+---------------+----------------+-----------------+------------------+---------+---------+---------+---------+---------+---------+---------+---------+---------+---------+------------------+\n",
            "|summary|manufacturer_name|        model_name|transmission| color|    odometer_value|     year_produced|  engine_fuel|engine_has_gas|engine_type|   engine_capacity|body_type|has_warranty|    state|drivetrain|        price_usd|is_exchangeable| location_region| number_of_photos|        up_counter|feature_0|feature_1|feature_2|feature_3|feature_4|feature_5|feature_6|feature_7|feature_8|feature_9|   duration_listed|\n",
            "+-------+-----------------+------------------+------------+------+------------------+------------------+-------------+--------------+-----------+------------------+---------+------------+---------+----------+-----------------+---------------+----------------+-----------------+------------------+---------+---------+---------+---------+---------+---------+---------+---------+---------+---------+------------------+\n",
            "|  count|            38531|             38531|       38531| 38531|             38531|             38531|        38531|         38531|      38531|             38521|    38531|       38531|    38531|     38531|            38531|          38531|           38531|            38531|             38531|    38531|    38531|    38531|    38531|    38531|    38531|    38531|    38531|    38531|    38531|             38531|\n",
            "|   mean|             null|1168.2918056562726|        null|  null| 248864.6384469648|2002.9437336170874|         null|          null|       null| 2.055161106928776|     null|        null|     null|      null|6639.971021255605|           null|            null|9.649061794399314|16.306091199294073|     null|     null|     null|     null|     null|     null|     null|     null|     null|     null|  80.5772494874257|\n",
            "| stddev|             null| 9820.119520829581|        null|  null|136072.37652978094| 8.065730511309884|         null|          null|       null|0.6711776672087446|     null|        null|     null|      null|6428.152018202907|           null|            null|6.093216996872852| 43.28693309422311|     null|     null|     null|     null|     null|     null|     null|     null|     null|     null|112.82656864261315|\n",
            "|    min|            Acura|               100|   automatic| black|                 0|              1942|       diesel|         False|     diesel|               0.2|cabriolet|       False|emergency|       all|              1.0|          False|  Брестская обл.|                1|                 1|    False|    False|    False|    False|    False|    False|    False|    False|    False|    False|                 0|\n",
            "|    max|              УАЗ|            Таврия|  mechanical|yellow|            999999|              2019|hybrid-petrol|          True|   gasoline|               8.0|      van|        True|    owned|      rear|           9999.0|           True|Могилевская обл.|                9|                99|     True|     True|     True|     True|     True|     True|     True|     True|     True|     True|               995|\n",
            "+-------+-----------------+------------------+------------+------+------------------+------------------+-------------+--------------+-----------+------------------+---------+------------+---------+----------+-----------------+---------------+----------------+-----------------+------------------+---------+---------+---------+---------+---------+---------+---------+---------+---------+---------+------------------+\n",
            "\n"
          ]
        }
      ]
    },
    {
      "cell_type": "code",
      "source": [
        "import pyspark.sql.types as t"
      ],
      "metadata": {
        "id": "jmwumclep5yk"
      },
      "execution_count": null,
      "outputs": []
    },
    {
      "cell_type": "markdown",
      "source": [
        "ПРАКТИКА Кол-во объявлений, средний год выпуска авто, мин цена, макс цена по производителю"
      ],
      "metadata": {
        "id": "YhWU80hmZ45w"
      }
    },
    {
      "cell_type": "code",
      "source": [
        "def main():\n",
        "  spark = SparkSession.builder.getOrCreate()\n",
        "\n",
        "  df2 = spark.read.format('csv').option(\"header\", \"true\").load(cars)\n",
        "\n",
        "  df2.show(5)\n",
        "\n",
        "  func = (\n",
        "      df2\n",
        "      .groupby(\"manufacturer_name\")\n",
        "      .agg(\n",
        "          F.count(\"manufacturer_name\").alias(\"count\"),\n",
        "          F.round(F.avg(\"year_produced\")).cast(t.IntegerType()).alias(\"avg_year\"),\n",
        "          F.min(\"price_usd\").alias(\"min_price\"),\n",
        "           F.max(\"price_usd\").alias(\"max_price\")\n",
        "        )\n",
        "  )\n",
        "\n",
        "  func.show(5)\n",
        "  func.write.mode(\"overwrite\").format(\"json\").save(\"result.json\")\n",
        "  func.write.mode(\"overwrite\").format(\"csv\").save(\"result.csv\")\n",
        "  #func.coalesce(4).write.mode(\"overwrite\").format(\"json\").save(\"result.json\")\n",
        "\n",
        "main()\n"
      ],
      "metadata": {
        "colab": {
          "base_uri": "https://localhost:8080/"
        },
        "id": "8h4DzbNIZ8OK",
        "outputId": "f5524f8b-dd0f-45c2-c309-1bff3ac5825c"
      },
      "execution_count": null,
      "outputs": [
        {
          "output_type": "stream",
          "name": "stdout",
          "text": [
            "+-----------------+----------+------------+------+--------------+-------------+-----------+--------------+-----------+---------------+---------+------------+-----+----------+---------+---------------+---------------+----------------+----------+---------+---------+---------+---------+---------+---------+---------+---------+---------+---------+---------------+\n",
            "|manufacturer_name|model_name|transmission| color|odometer_value|year_produced|engine_fuel|engine_has_gas|engine_type|engine_capacity|body_type|has_warranty|state|drivetrain|price_usd|is_exchangeable|location_region|number_of_photos|up_counter|feature_0|feature_1|feature_2|feature_3|feature_4|feature_5|feature_6|feature_7|feature_8|feature_9|duration_listed|\n",
            "+-----------------+----------+------------+------+--------------+-------------+-----------+--------------+-----------+---------------+---------+------------+-----+----------+---------+---------------+---------------+----------------+----------+---------+---------+---------+---------+---------+---------+---------+---------+---------+---------+---------------+\n",
            "|           Subaru|   Outback|   automatic|silver|        190000|         2010|   gasoline|         False|   gasoline|            2.5|universal|       False|owned|       all|  10900.0|          False|   Минская обл.|               9|        13|    False|     True|     True|     True|    False|     True|    False|     True|     True|     True|             16|\n",
            "|           Subaru|   Outback|   automatic|  blue|        290000|         2002|   gasoline|         False|   gasoline|            3.0|universal|       False|owned|       all|   5000.0|           True|   Минская обл.|              12|        54|    False|     True|    False|    False|     True|     True|    False|    False|    False|     True|             83|\n",
            "|           Subaru|  Forester|   automatic|   red|        402000|         2001|   gasoline|         False|   gasoline|            2.5|      suv|       False|owned|       all|   2800.0|           True|   Минская обл.|               4|        72|    False|     True|    False|    False|    False|    False|    False|    False|     True|     True|            151|\n",
            "|           Subaru|   Impreza|  mechanical|  blue|         10000|         1999|   gasoline|         False|   gasoline|            3.0|    sedan|       False|owned|       all|   9999.0|           True|   Минская обл.|               9|        42|     True|    False|    False|    False|    False|    False|    False|    False|    False|    False|             86|\n",
            "|           Subaru|    Legacy|   automatic| black|        280000|         2001|   gasoline|         False|   gasoline|            2.5|universal|       False|owned|       all|  2134.11|           True|Гомельская обл.|              14|         7|    False|     True|    False|     True|     True|    False|    False|    False|    False|     True|              7|\n",
            "+-----------------+----------+------------+------+--------------+-------------+-----------+--------------+-----------+---------------+---------+------------+-----+----------+---------+---------------+---------------+----------------+----------+---------+---------+---------+---------+---------+---------+---------+---------+---------+---------+---------------+\n",
            "only showing top 5 rows\n",
            "\n",
            "+-----------------+-----+--------+---------+---------+\n",
            "|manufacturer_name|count|avg_year|min_price|max_price|\n",
            "+-----------------+-----+--------+---------+---------+\n",
            "|            Acura|   66|    2007|  11400.0|   9700.0|\n",
            "|       Alfa Romeo|  207|    1999|   1000.0|    980.0|\n",
            "|             Audi| 2468|    2000|   1000.0|   9999.0|\n",
            "|              BMW| 2610|    2003|   1000.0|   9999.0|\n",
            "|            Buick|   47|    2014|  10199.0|   9999.0|\n",
            "+-----------------+-----+--------+---------+---------+\n",
            "only showing top 5 rows\n",
            "\n"
          ]
        }
      ]
    },
    {
      "cell_type": "code",
      "source": [
        "!ls"
      ],
      "metadata": {
        "colab": {
          "base_uri": "https://localhost:8080/"
        },
        "id": "N4zbH0SXbNX5",
        "outputId": "1a837edc-8cb6-44c7-9357-bbf52dcab8dd"
      },
      "execution_count": null,
      "outputs": [
        {
          "output_type": "stream",
          "name": "stdout",
          "text": [
            "drive  result.csv  result.json\tsample_data\n"
          ]
        }
      ]
    },
    {
      "cell_type": "code",
      "source": [
        "!ls result.json"
      ],
      "metadata": {
        "colab": {
          "base_uri": "https://localhost:8080/"
        },
        "id": "VsxC2OBDeNTT",
        "outputId": "3f0ab358-e3ad-4ee4-d05a-daedc588e040"
      },
      "execution_count": null,
      "outputs": [
        {
          "output_type": "stream",
          "name": "stdout",
          "text": [
            "part-00000-76e3bda5-b7a3-47e8-8575-d297ac731f4c-c000.json  _SUCCESS\n"
          ]
        }
      ]
    },
    {
      "cell_type": "code",
      "source": [
        "!cat result.json/part-00000-76e3bda5-b7a3-47e8-8575-d297ac731f4c-c000.json"
      ],
      "metadata": {
        "colab": {
          "base_uri": "https://localhost:8080/"
        },
        "id": "zP03Mp_YrHTn",
        "outputId": "54e2a6b4-2a65-434f-9890-d420525c0ac1"
      },
      "execution_count": null,
      "outputs": [
        {
          "output_type": "stream",
          "name": "stdout",
          "text": [
            "{\"manufacturer_name\":\"Acura\",\"count\":66,\"avg_year\":2007,\"min_price\":\"11400.0\",\"max_price\":\"9700.0\"}\n",
            "{\"manufacturer_name\":\"Alfa Romeo\",\"count\":207,\"avg_year\":1999,\"min_price\":\"1000.0\",\"max_price\":\"980.0\"}\n",
            "{\"manufacturer_name\":\"Audi\",\"count\":2468,\"avg_year\":2000,\"min_price\":\"1000.0\",\"max_price\":\"9999.0\"}\n",
            "{\"manufacturer_name\":\"BMW\",\"count\":2610,\"avg_year\":2003,\"min_price\":\"1000.0\",\"max_price\":\"9999.0\"}\n",
            "{\"manufacturer_name\":\"Buick\",\"count\":47,\"avg_year\":2014,\"min_price\":\"10199.0\",\"max_price\":\"9999.0\"}\n",
            "{\"manufacturer_name\":\"Cadillac\",\"count\":43,\"avg_year\":2006,\"min_price\":\"10500.0\",\"max_price\":\"9100.0\"}\n",
            "{\"manufacturer_name\":\"Chery\",\"count\":58,\"avg_year\":2011,\"min_price\":\"11000.0\",\"max_price\":\"9150.0\"}\n",
            "{\"manufacturer_name\":\"Chevrolet\",\"count\":436,\"avg_year\":2011,\"min_price\":\"1000.0\",\"max_price\":\"9999.0\"}\n",
            "{\"manufacturer_name\":\"Chrysler\",\"count\":410,\"avg_year\":2002,\"min_price\":\"1000.0\",\"max_price\":\"9900.0\"}\n",
            "{\"manufacturer_name\":\"Citroen\",\"count\":1562,\"avg_year\":2003,\"min_price\":\"100.0\",\"max_price\":\"9999.0\"}\n",
            "{\"manufacturer_name\":\"Dacia\",\"count\":59,\"avg_year\":2009,\"min_price\":\"11050.0\",\"max_price\":\"9960.0\"}\n",
            "{\"manufacturer_name\":\"Daewoo\",\"count\":221,\"avg_year\":2001,\"min_price\":\"100.0\",\"max_price\":\"999.0\"}\n",
            "{\"manufacturer_name\":\"Dodge\",\"count\":297,\"avg_year\":2003,\"min_price\":\"10150.0\",\"max_price\":\"9990.0\"}\n",
            "{\"manufacturer_name\":\"Fiat\",\"count\":824,\"avg_year\":2000,\"min_price\":\"1.0\",\"max_price\":\"999.0\"}\n",
            "{\"manufacturer_name\":\"Ford\",\"count\":2566,\"avg_year\":2002,\"min_price\":\"1000.0\",\"max_price\":\"9999.0\"}\n",
            "{\"manufacturer_name\":\"Geely\",\"count\":71,\"avg_year\":2014,\"min_price\":\"10500.0\",\"max_price\":\"9000.0\"}\n",
            "{\"manufacturer_name\":\"Great Wall\",\"count\":36,\"avg_year\":2009,\"min_price\":\"11250.0\",\"max_price\":\"9300.0\"}\n",
            "{\"manufacturer_name\":\"Honda\",\"count\":797,\"avg_year\":2004,\"min_price\":\"100.0\",\"max_price\":\"9999.0\"}\n",
            "{\"manufacturer_name\":\"Hyundai\",\"count\":1116,\"avg_year\":2007,\"min_price\":\"1000.0\",\"max_price\":\"9999.0\"}\n",
            "{\"manufacturer_name\":\"Infiniti\",\"count\":162,\"avg_year\":2008,\"min_price\":\"10000.0\",\"max_price\":\"9800.0\"}\n",
            "{\"manufacturer_name\":\"Iveco\",\"count\":139,\"avg_year\":2003,\"min_price\":\"10000.0\",\"max_price\":\"9800.0\"}\n",
            "{\"manufacturer_name\":\"Jaguar\",\"count\":53,\"avg_year\":2009,\"min_price\":\"10500.0\",\"max_price\":\"9900.0\"}\n",
            "{\"manufacturer_name\":\"Jeep\",\"count\":107,\"avg_year\":2005,\"min_price\":\"10000.0\",\"max_price\":\"9900.0\"}\n",
            "{\"manufacturer_name\":\"Kia\",\"count\":912,\"avg_year\":2008,\"min_price\":\"1000.0\",\"max_price\":\"9990.0\"}\n",
            "{\"manufacturer_name\":\"LADA\",\"count\":146,\"avg_year\":2014,\"min_price\":\"1000.0\",\"max_price\":\"9959.2\"}\n",
            "{\"manufacturer_name\":\"Lancia\",\"count\":92,\"avg_year\":2000,\"min_price\":\"1000.0\",\"max_price\":\"9500.0\"}\n",
            "{\"manufacturer_name\":\"Land Rover\",\"count\":184,\"avg_year\":2007,\"min_price\":\"10000.0\",\"max_price\":\"9999.0\"}\n",
            "{\"manufacturer_name\":\"Lexus\",\"count\":213,\"avg_year\":2008,\"min_price\":\"10100.0\",\"max_price\":\"9999.0\"}\n",
            "{\"manufacturer_name\":\"Lifan\",\"count\":47,\"avg_year\":2015,\"min_price\":\"1050.0\",\"max_price\":\"9959.2\"}\n",
            "{\"manufacturer_name\":\"Lincoln\",\"count\":36,\"avg_year\":2003,\"min_price\":\"10000.0\",\"max_price\":\"8900.0\"}\n",
            "{\"manufacturer_name\":\"Mazda\",\"count\":1328,\"avg_year\":2002,\"min_price\":\"1.0\",\"max_price\":\"9999.0\"}\n",
            "{\"manufacturer_name\":\"Mercedes-Benz\",\"count\":2237,\"avg_year\":2002,\"min_price\":\"1.42\",\"max_price\":\"9999.0\"}\n",
            "{\"manufacturer_name\":\"Mini\",\"count\":68,\"avg_year\":2011,\"min_price\":\"10250.0\",\"max_price\":\"9500.0\"}\n",
            "{\"manufacturer_name\":\"Mitsubishi\",\"count\":887,\"avg_year\":2002,\"min_price\":\"1000.0\",\"max_price\":\"9999.0\"}\n",
            "{\"manufacturer_name\":\"Nissan\",\"count\":1361,\"avg_year\":2004,\"min_price\":\"1000.0\",\"max_price\":\"9999.0\"}\n",
            "{\"manufacturer_name\":\"Opel\",\"count\":2759,\"avg_year\":2002,\"min_price\":\"1000.0\",\"max_price\":\"9999.0\"}\n",
            "{\"manufacturer_name\":\"Peugeot\",\"count\":1909,\"avg_year\":2003,\"min_price\":\"1.0\",\"max_price\":\"9999.0\"}\n",
            "{\"manufacturer_name\":\"Pontiac\",\"count\":42,\"avg_year\":2001,\"min_price\":\"10000.0\",\"max_price\":\"900.0\"}\n",
            "{\"manufacturer_name\":\"Porsche\",\"count\":61,\"avg_year\":2008,\"min_price\":\"10000.0\",\"max_price\":\"9600.0\"}\n",
            "{\"manufacturer_name\":\"Renault\",\"count\":2493,\"avg_year\":2003,\"min_price\":\"10.0\",\"max_price\":\"9999.0\"}\n",
            "{\"manufacturer_name\":\"Rover\",\"count\":235,\"avg_year\":1998,\"min_price\":\"1000.0\",\"max_price\":\"999.0\"}\n",
            "{\"manufacturer_name\":\"Saab\",\"count\":108,\"avg_year\":2001,\"min_price\":\"1000.0\",\"max_price\":\"924.78\"}\n",
            "{\"manufacturer_name\":\"Seat\",\"count\":303,\"avg_year\":2001,\"min_price\":\"1000.0\",\"max_price\":\"9999.0\"}\n",
            "{\"manufacturer_name\":\"Skoda\",\"count\":1089,\"avg_year\":2013,\"min_price\":\"1000.0\",\"max_price\":\"9999.0\"}\n",
            "{\"manufacturer_name\":\"SsangYong\",\"count\":79,\"avg_year\":2007,\"min_price\":\"10000.0\",\"max_price\":\"9999.0\"}\n",
            "{\"manufacturer_name\":\"Subaru\",\"count\":291,\"avg_year\":2004,\"min_price\":\"1000.0\",\"max_price\":\"9999.0\"}\n",
            "{\"manufacturer_name\":\"Suzuki\",\"count\":234,\"avg_year\":2004,\"min_price\":\"10000.0\",\"max_price\":\"9999.0\"}\n",
            "{\"manufacturer_name\":\"Toyota\",\"count\":1246,\"avg_year\":2006,\"min_price\":\"1000.0\",\"max_price\":\"9999.0\"}\n",
            "{\"manufacturer_name\":\"Volkswagen\",\"count\":4243,\"avg_year\":2002,\"min_price\":\"1.0\",\"max_price\":\"9999.0\"}\n",
            "{\"manufacturer_name\":\"Volvo\",\"count\":721,\"avg_year\":2004,\"min_price\":\"1000.0\",\"max_price\":\"9999.0\"}\n",
            "{\"manufacturer_name\":\"ВАЗ\",\"count\":481,\"avg_year\":1994,\"min_price\":\"1.0\",\"max_price\":\"999.0\"}\n",
            "{\"manufacturer_name\":\"ГАЗ\",\"count\":200,\"avg_year\":1988,\"min_price\":\"1000.0\",\"max_price\":\"999.0\"}\n",
            "{\"manufacturer_name\":\"ЗАЗ\",\"count\":42,\"avg_year\":1997,\"min_price\":\"1000.0\",\"max_price\":\"800.0\"}\n",
            "{\"manufacturer_name\":\"Москвич\",\"count\":55,\"avg_year\":1979,\"min_price\":\"1000.0\",\"max_price\":\"948.5\"}\n",
            "{\"manufacturer_name\":\"УАЗ\",\"count\":74,\"avg_year\":1999,\"min_price\":\"1000.0\",\"max_price\":\"999.0\"}\n"
          ]
        }
      ]
    },
    {
      "cell_type": "code",
      "source": [
        "!ls result.csv"
      ],
      "metadata": {
        "colab": {
          "base_uri": "https://localhost:8080/"
        },
        "id": "6H4LdABTrUSL",
        "outputId": "5f7fc5a6-0bc0-4591-f707-a4b23d2473e0"
      },
      "execution_count": null,
      "outputs": [
        {
          "output_type": "stream",
          "name": "stdout",
          "text": [
            "part-00000-91b45af7-4a7b-4c91-bb9f-540f18e4de9d-c000.csv  _SUCCESS\n"
          ]
        }
      ]
    },
    {
      "cell_type": "code",
      "source": [
        "!cat result.csv/part-00000-91b45af7-4a7b-4c91-bb9f-540f18e4de9d-c000.csv"
      ],
      "metadata": {
        "id": "NLx4Ek8Yv33R",
        "outputId": "ebe17a02-7264-4c3e-d86a-d43d21284f1a",
        "colab": {
          "base_uri": "https://localhost:8080/"
        }
      },
      "execution_count": null,
      "outputs": [
        {
          "output_type": "stream",
          "name": "stdout",
          "text": [
            "Acura,66,2007,11400.0,9700.0\n",
            "Alfa Romeo,207,1999,1000.0,980.0\n",
            "Audi,2468,2000,1000.0,9999.0\n",
            "BMW,2610,2003,1000.0,9999.0\n",
            "Buick,47,2014,10199.0,9999.0\n",
            "Cadillac,43,2006,10500.0,9100.0\n",
            "Chery,58,2011,11000.0,9150.0\n",
            "Chevrolet,436,2011,1000.0,9999.0\n",
            "Chrysler,410,2002,1000.0,9900.0\n",
            "Citroen,1562,2003,100.0,9999.0\n",
            "Dacia,59,2009,11050.0,9960.0\n",
            "Daewoo,221,2001,100.0,999.0\n",
            "Dodge,297,2003,10150.0,9990.0\n",
            "Fiat,824,2000,1.0,999.0\n",
            "Ford,2566,2002,1000.0,9999.0\n",
            "Geely,71,2014,10500.0,9000.0\n",
            "Great Wall,36,2009,11250.0,9300.0\n",
            "Honda,797,2004,100.0,9999.0\n",
            "Hyundai,1116,2007,1000.0,9999.0\n",
            "Infiniti,162,2008,10000.0,9800.0\n",
            "Iveco,139,2003,10000.0,9800.0\n",
            "Jaguar,53,2009,10500.0,9900.0\n",
            "Jeep,107,2005,10000.0,9900.0\n",
            "Kia,912,2008,1000.0,9990.0\n",
            "LADA,146,2014,1000.0,9959.2\n",
            "Lancia,92,2000,1000.0,9500.0\n",
            "Land Rover,184,2007,10000.0,9999.0\n",
            "Lexus,213,2008,10100.0,9999.0\n",
            "Lifan,47,2015,1050.0,9959.2\n",
            "Lincoln,36,2003,10000.0,8900.0\n",
            "Mazda,1328,2002,1.0,9999.0\n",
            "Mercedes-Benz,2237,2002,1.42,9999.0\n",
            "Mini,68,2011,10250.0,9500.0\n",
            "Mitsubishi,887,2002,1000.0,9999.0\n",
            "Nissan,1361,2004,1000.0,9999.0\n",
            "Opel,2759,2002,1000.0,9999.0\n",
            "Peugeot,1909,2003,1.0,9999.0\n",
            "Pontiac,42,2001,10000.0,900.0\n",
            "Porsche,61,2008,10000.0,9600.0\n",
            "Renault,2493,2003,10.0,9999.0\n",
            "Rover,235,1998,1000.0,999.0\n",
            "Saab,108,2001,1000.0,924.78\n",
            "Seat,303,2001,1000.0,9999.0\n",
            "Skoda,1089,2013,1000.0,9999.0\n",
            "SsangYong,79,2007,10000.0,9999.0\n",
            "Subaru,291,2004,1000.0,9999.0\n",
            "Suzuki,234,2004,10000.0,9999.0\n",
            "Toyota,1246,2006,1000.0,9999.0\n",
            "Volkswagen,4243,2002,1.0,9999.0\n",
            "Volvo,721,2004,1000.0,9999.0\n",
            "ВАЗ,481,1994,1.0,999.0\n",
            "ГАЗ,200,1988,1000.0,999.0\n",
            "ЗАЗ,42,1997,1000.0,800.0\n",
            "Москвич,55,1979,1000.0,948.5\n",
            "УАЗ,74,1999,1000.0,999.0\n"
          ]
        }
      ]
    },
    {
      "cell_type": "code",
      "source": [
        ""
      ],
      "metadata": {
        "id": "plT1UBBCs69s"
      },
      "execution_count": null,
      "outputs": []
    }
  ]
}