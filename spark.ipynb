{
  "nbformat": 4,
  "nbformat_minor": 0,
  "metadata": {
    "colab": {
      "name": "spark.ipynb",
      "provenance": [],
      "authorship_tag": "ABX9TyM6Xetn0agojeXawAiN0GWp",
      "include_colab_link": true
    },
    "kernelspec": {
      "name": "python3",
      "display_name": "Python 3"
    },
    "language_info": {
      "name": "python"
    }
  },
  "cells": [
    {
      "cell_type": "markdown",
      "metadata": {
        "id": "view-in-github",
        "colab_type": "text"
      },
      "source": [
        "<a href=\"https://colab.research.google.com/github/paulis-an/spark_notebook/blob/main/spark.ipynb\" target=\"_parent\"><img src=\"https://colab.research.google.com/assets/colab-badge.svg\" alt=\"Open In Colab\"/></a>"
      ]
    },
    {
      "cell_type": "code",
      "metadata": {
        "colab": {
          "base_uri": "https://localhost:8080/"
        },
        "id": "vdNeEjzN76h_",
        "outputId": "0d46aa7b-883d-40ed-ecbc-feae6b767cfc"
      },
      "source": [
        "!pip install pyspark==3.0.1 py4j==0.10.9"
      ],
      "execution_count": null,
      "outputs": [
        {
          "output_type": "stream",
          "name": "stdout",
          "text": [
            "Collecting pyspark==3.0.1\n",
            "  Downloading pyspark-3.0.1.tar.gz (204.2 MB)\n",
            "\u001b[K     |████████████████████████████████| 204.2 MB 28 kB/s \n",
            "\u001b[?25hCollecting py4j==0.10.9\n",
            "  Downloading py4j-0.10.9-py2.py3-none-any.whl (198 kB)\n",
            "\u001b[K     |████████████████████████████████| 198 kB 62.7 MB/s \n",
            "\u001b[?25hBuilding wheels for collected packages: pyspark\n",
            "  Building wheel for pyspark (setup.py) ... \u001b[?25l\u001b[?25hdone\n",
            "  Created wheel for pyspark: filename=pyspark-3.0.1-py2.py3-none-any.whl size=204612246 sha256=a68da8837bbf917b8efb9a340a9a9e7d122005d4eae9787ee789c53cf7829548\n",
            "  Stored in directory: /root/.cache/pip/wheels/5e/34/fa/b37b5cef503fc5148b478b2495043ba61b079120b7ff379f9b\n",
            "Successfully built pyspark\n",
            "Installing collected packages: py4j, pyspark\n",
            "Successfully installed py4j-0.10.9 pyspark-3.0.1\n"
          ]
        }
      ]
    },
    {
      "cell_type": "code",
      "metadata": {
        "id": "_qV0EVm57_dh"
      },
      "source": [
        "from pyspark.sql import SparkSession"
      ],
      "execution_count": null,
      "outputs": []
    },
    {
      "cell_type": "code",
      "metadata": {
        "id": "wLPR1fL28r4r"
      },
      "source": [
        "spark = SparkSession.builder\\\n",
        "        .master(\"local[8]\")\\\n",
        "        .appName('PySpark_Tutorial')\\\n",
        "        .getOrCreate()"
      ],
      "execution_count": null,
      "outputs": []
    },
    {
      "cell_type": "code",
      "metadata": {
        "id": "MEb7vWww9kp7"
      },
      "source": [
        "csv_file = '/content/sample_data/california_housing_test.csv'"
      ],
      "execution_count": null,
      "outputs": []
    },
    {
      "cell_type": "code",
      "metadata": {
        "id": "vfxdJ-7H9xAq"
      },
      "source": [
        "data = spark.read.csv(\n",
        "    csv_file,\n",
        "    sep=',',\n",
        "    header=True,\n",
        ")"
      ],
      "execution_count": null,
      "outputs": []
    },
    {
      "cell_type": "code",
      "metadata": {
        "colab": {
          "base_uri": "https://localhost:8080/"
        },
        "id": "byczoo0x-Ai5",
        "outputId": "131ce42e-8481-4f2e-b88c-17e9f6a6f773"
      },
      "source": [
        "data.printSchema()"
      ],
      "execution_count": null,
      "outputs": [
        {
          "output_type": "stream",
          "name": "stdout",
          "text": [
            "root\n",
            " |-- longitude: string (nullable = true)\n",
            " |-- latitude: string (nullable = true)\n",
            " |-- housing_median_age: string (nullable = true)\n",
            " |-- total_rooms: string (nullable = true)\n",
            " |-- total_bedrooms: string (nullable = true)\n",
            " |-- population: string (nullable = true)\n",
            " |-- households: string (nullable = true)\n",
            " |-- median_income: string (nullable = true)\n",
            " |-- median_house_value: string (nullable = true)\n",
            "\n"
          ]
        }
      ]
    },
    {
      "cell_type": "code",
      "metadata": {
        "id": "0-3jxpgy-INx"
      },
      "source": [
        "from pyspark.sql.types import *"
      ],
      "execution_count": null,
      "outputs": []
    },
    {
      "cell_type": "code",
      "metadata": {
        "id": "IiBT0odGC4ij"
      },
      "source": [
        "csv_file = '/content/german_credit_augmented.csv'"
      ],
      "execution_count": null,
      "outputs": []
    },
    {
      "cell_type": "code",
      "metadata": {
        "id": "Y0KvZFJjE4tO"
      },
      "source": [
        "data = spark.read.csv(\n",
        "    csv_file,\n",
        "    sep=',',\n",
        "    header=True,\n",
        ")"
      ],
      "execution_count": null,
      "outputs": []
    },
    {
      "cell_type": "code",
      "metadata": {
        "colab": {
          "base_uri": "https://localhost:8080/"
        },
        "id": "WYZbMXq5E9QV",
        "outputId": "9962de8c-327d-4bf4-aee4-8b15637bdd33"
      },
      "source": [
        "data.printSchema()"
      ],
      "execution_count": null,
      "outputs": [
        {
          "output_type": "stream",
          "name": "stdout",
          "text": [
            "root\n",
            " |-- age: string (nullable = true)\n",
            " |-- sex: string (nullable = true)\n",
            " |-- job: string (nullable = true)\n",
            " |-- housing: string (nullable = true)\n",
            " |-- saving_accounts: string (nullable = true)\n",
            " |-- checking_account: string (nullable = true)\n",
            " |-- credit_amount: string (nullable = true)\n",
            " |-- duration: string (nullable = true)\n",
            " |-- purpose: string (nullable = true)\n",
            " |-- default: string (nullable = true)\n",
            " |-- contract_dt: string (nullable = true)\n",
            " |-- client_id: string (nullable = true)\n",
            "\n"
          ]
        }
      ]
    },
    {
      "cell_type": "code",
      "metadata": {
        "id": "biaGmDMbFAJE"
      },
      "source": [
        "data_schema = [\n",
        "               StructField('age', IntegerType(), True),\n",
        "               StructField('sex', StringType(), True),\n",
        "               StructField('job', IntegerType(), True),\n",
        "               StructField('housing', StringType(), True),\n",
        "               StructField('saving_accounts', StringType(), True),\n",
        "               StructField('checking_account', StringType(), True),\n",
        "               StructField('credit_amount', IntegerType(), True),\n",
        "               StructField('duration', IntegerType(), True),\n",
        "               StructField('purpose', StringType(), True),\n",
        "               StructField('default', IntegerType(), True),\n",
        "               StructField('contract_dt', DateType(), True),\n",
        "               StructField('client_id', IntegerType(), True)\n",
        "            ]"
      ],
      "execution_count": null,
      "outputs": []
    },
    {
      "cell_type": "code",
      "metadata": {
        "id": "8JVeKPQeJKBS"
      },
      "source": [
        "final_struc = StructType(fields = data_schema)"
      ],
      "execution_count": null,
      "outputs": []
    },
    {
      "cell_type": "code",
      "metadata": {
        "id": "FL9EFRxtJWTL"
      },
      "source": [
        "data = spark.read.csv(\n",
        "    csv_file,\n",
        "    sep=',',\n",
        "    header=True,\n",
        "    schema=final_struc \n",
        ")"
      ],
      "execution_count": null,
      "outputs": []
    },
    {
      "cell_type": "code",
      "metadata": {
        "colab": {
          "base_uri": "https://localhost:8080/"
        },
        "id": "Yeyz8uciJqbL",
        "outputId": "2ba10060-378a-43fb-c955-88ef80d20d4e"
      },
      "source": [
        "data.printSchema()"
      ],
      "execution_count": null,
      "outputs": [
        {
          "output_type": "stream",
          "name": "stdout",
          "text": [
            "root\n",
            " |-- age: integer (nullable = true)\n",
            " |-- sex: string (nullable = true)\n",
            " |-- job: integer (nullable = true)\n",
            " |-- housing: string (nullable = true)\n",
            " |-- saving_accounts: string (nullable = true)\n",
            " |-- checking_account: string (nullable = true)\n",
            " |-- credit_amount: integer (nullable = true)\n",
            " |-- duration: integer (nullable = true)\n",
            " |-- purpose: string (nullable = true)\n",
            " |-- default: integer (nullable = true)\n",
            " |-- contract_dt: date (nullable = true)\n",
            " |-- client_id: integer (nullable = true)\n",
            "\n"
          ]
        }
      ]
    },
    {
      "cell_type": "code",
      "metadata": {
        "colab": {
          "base_uri": "https://localhost:8080/"
        },
        "id": "X0kQMX00Jz0y",
        "outputId": "a00bfa4e-694b-4a97-bb1f-46e16e32da1b"
      },
      "source": [
        "print(data)"
      ],
      "execution_count": null,
      "outputs": [
        {
          "output_type": "stream",
          "name": "stdout",
          "text": [
            "DataFrame[age: int, sex: string, job: int, housing: string, saving_accounts: string, checking_account: string, credit_amount: int, duration: int, purpose: string, default: int, contract_dt: date, client_id: int]\n"
          ]
        }
      ]
    },
    {
      "cell_type": "code",
      "metadata": {
        "colab": {
          "base_uri": "https://localhost:8080/"
        },
        "id": "AdA1uUoSJ8fb",
        "outputId": "214101d9-94c6-416a-b5a0-eec7b9aea7c9"
      },
      "source": [
        "data.dtypes"
      ],
      "execution_count": null,
      "outputs": [
        {
          "output_type": "execute_result",
          "data": {
            "text/plain": [
              "[('age', 'int'),\n",
              " ('sex', 'string'),\n",
              " ('job', 'int'),\n",
              " ('housing', 'string'),\n",
              " ('saving_accounts', 'string'),\n",
              " ('checking_account', 'string'),\n",
              " ('credit_amount', 'int'),\n",
              " ('duration', 'int'),\n",
              " ('purpose', 'string'),\n",
              " ('default', 'int'),\n",
              " ('contract_dt', 'date'),\n",
              " ('client_id', 'int')]"
            ]
          },
          "metadata": {},
          "execution_count": 17
        }
      ]
    },
    {
      "cell_type": "code",
      "metadata": {
        "colab": {
          "base_uri": "https://localhost:8080/"
        },
        "id": "BSn5bxe-KbVN",
        "outputId": "88ce197a-4dc4-4254-f01a-5fc66a1ea34d"
      },
      "source": [
        "data.schema"
      ],
      "execution_count": null,
      "outputs": [
        {
          "output_type": "execute_result",
          "data": {
            "text/plain": [
              "StructType(List(StructField(age,IntegerType,true),StructField(sex,StringType,true),StructField(job,IntegerType,true),StructField(housing,StringType,true),StructField(saving_accounts,StringType,true),StructField(checking_account,StringType,true),StructField(credit_amount,IntegerType,true),StructField(duration,IntegerType,true),StructField(purpose,StringType,true),StructField(default,IntegerType,true),StructField(contract_dt,DateType,true),StructField(client_id,IntegerType,true)))"
            ]
          },
          "metadata": {},
          "execution_count": 18
        }
      ]
    },
    {
      "cell_type": "code",
      "metadata": {
        "colab": {
          "base_uri": "https://localhost:8080/"
        },
        "id": "YvCBTS70Keai",
        "outputId": "4dd6e964-8d7f-4296-c9ed-2e9df6bb4043"
      },
      "source": [
        "data.head(10)"
      ],
      "execution_count": null,
      "outputs": [
        {
          "output_type": "execute_result",
          "data": {
            "text/plain": [
              "[Row(age=33, sex='male', job=2, housing='own', saving_accounts=None, checking_account=None, credit_amount=3074, duration=9, purpose='radio/TV', default=0, contract_dt=datetime.date(2008, 6, 29), client_id=210),\n",
              " Row(age=43, sex='male', job=1, housing='own', saving_accounts='little', checking_account='little', credit_amount=1344, duration=12, purpose='car', default=0, contract_dt=datetime.date(2007, 5, 20), client_id=929),\n",
              " Row(age=52, sex='male', job=2, housing='own', saving_accounts='quite rich', checking_account=None, credit_amount=936, duration=9, purpose='education', default=0, contract_dt=datetime.date(2008, 4, 27), client_id=200),\n",
              " Row(age=35, sex='female', job=3, housing='own', saving_accounts='little', checking_account=None, credit_amount=1393, duration=11, purpose='car', default=0, contract_dt=datetime.date(2007, 5, 6), client_id=45),\n",
              " Row(age=28, sex='male', job=2, housing='own', saving_accounts='little', checking_account=None, credit_amount=776, duration=12, purpose='radio/TV', default=0, contract_dt=datetime.date(2007, 7, 21), client_id=358),\n",
              " Row(age=27, sex='female', job=2, housing='own', saving_accounts='little', checking_account='moderate', credit_amount=1295, duration=18, purpose='furniture/equipment', default=0, contract_dt=datetime.date(2008, 6, 18), client_id=86),\n",
              " Row(age=29, sex='female', job=2, housing='own', saving_accounts='little', checking_account='moderate', credit_amount=959, duration=9, purpose='furniture/equipment', default=1, contract_dt=datetime.date(2007, 5, 21), client_id=351),\n",
              " Row(age=42, sex='female', job=2, housing='rent', saving_accounts='rich', checking_account='rich', credit_amount=409, duration=12, purpose='radio/TV', default=0, contract_dt=datetime.date(2008, 6, 5), client_id=27),\n",
              " Row(age=26, sex='male', job=2, housing='own', saving_accounts='little', checking_account='little', credit_amount=4370, duration=42, purpose='radio/TV', default=1, contract_dt=datetime.date(2007, 11, 29), client_id=639),\n",
              " Row(age=55, sex='male', job=2, housing='free', saving_accounts='rich', checking_account=None, credit_amount=1555, duration=12, purpose='repairs', default=1, contract_dt=datetime.date(2007, 9, 11), client_id=754)]"
            ]
          },
          "metadata": {},
          "execution_count": 20
        }
      ]
    },
    {
      "cell_type": "code",
      "metadata": {
        "colab": {
          "base_uri": "https://localhost:8080/"
        },
        "id": "QflN7_RDKqFK",
        "outputId": "02cc0f7e-9cfc-41f4-a535-fcb56341f54b"
      },
      "source": [
        "data.show"
      ],
      "execution_count": null,
      "outputs": [
        {
          "output_type": "execute_result",
          "data": {
            "text/plain": [
              "<bound method DataFrame.show of DataFrame[age: int, sex: string, job: int, housing: string, saving_accounts: string, checking_account: string, credit_amount: int, duration: int, purpose: string, default: int, contract_dt: date, client_id: int]>"
            ]
          },
          "metadata": {},
          "execution_count": 21
        }
      ]
    },
    {
      "cell_type": "code",
      "metadata": {
        "colab": {
          "base_uri": "https://localhost:8080/"
        },
        "id": "81iR43kdK2Ta",
        "outputId": "49c6ebb5-f24f-4e39-c9be-e178aff84999"
      },
      "source": [
        "data.show()"
      ],
      "execution_count": null,
      "outputs": [
        {
          "output_type": "stream",
          "name": "stdout",
          "text": [
            "+---+------+---+-------+---------------+----------------+-------------+--------+-------------------+-------+-----------+---------+\n",
            "|age|   sex|job|housing|saving_accounts|checking_account|credit_amount|duration|            purpose|default|contract_dt|client_id|\n",
            "+---+------+---+-------+---------------+----------------+-------------+--------+-------------------+-------+-----------+---------+\n",
            "| 33|  male|  2|    own|           null|            null|         3074|       9|           radio/TV|      0| 2008-06-29|      210|\n",
            "| 43|  male|  1|    own|         little|          little|         1344|      12|                car|      0| 2007-05-20|      929|\n",
            "| 52|  male|  2|    own|     quite rich|            null|          936|       9|          education|      0| 2008-04-27|      200|\n",
            "| 35|female|  3|    own|         little|            null|         1393|      11|                car|      0| 2007-05-06|       45|\n",
            "| 28|  male|  2|    own|         little|            null|          776|      12|           radio/TV|      0| 2007-07-21|      358|\n",
            "| 27|female|  2|    own|         little|        moderate|         1295|      18|furniture/equipment|      0| 2008-06-18|       86|\n",
            "| 29|female|  2|    own|         little|        moderate|          959|       9|furniture/equipment|      1| 2007-05-21|      351|\n",
            "| 42|female|  2|   rent|           rich|            rich|          409|      12|           radio/TV|      0| 2008-06-05|       27|\n",
            "| 26|  male|  2|    own|         little|          little|         4370|      42|           radio/TV|      1| 2007-11-29|      639|\n",
            "| 55|  male|  2|   free|           rich|            null|         1555|      12|            repairs|      1| 2007-09-11|      754|\n",
            "| 27|female|  2|    own|         little|          little|         3123|      24|                car|      1| 2008-04-16|      500|\n",
            "| 35|  male|  2|   free|         little|          little|         3386|      12|                car|      1| 2007-11-16|      457|\n",
            "| 48|  male|  2|    own|         little|          little|         1082|      12|                car|      1| 2007-05-13|      835|\n",
            "| 34|  male|  1|    own|       moderate|            null|         1743|       6|           business|      0| 2008-02-14|      348|\n",
            "| 35|  male|  2|    own|         little|        moderate|         2576|       7|           radio/TV|      0| 2008-01-20|      447|\n",
            "| 27|  male|  2|    own|         little|            null|         3850|      18|                car|      0| 2007-09-03|      366|\n",
            "| 46|  male|  2|   free|     quite rich|            null|          727|      10|          education|      0| 2007-07-06|      354|\n",
            "| 37|  male|  3|    own|           null|        moderate|         4712|      24|           business|      0| 2007-11-23|      564|\n",
            "| 29|  male|  2|    own|           null|            null|         3556|      15|                car|      0| 2007-05-06|      962|\n",
            "| 21|female|  2|   rent|       moderate|        moderate|         3441|      30|furniture/equipment|      1| 2007-10-03|      618|\n",
            "+---+------+---+-------+---------------+----------------+-------------+--------+-------------------+-------+-----------+---------+\n",
            "only showing top 20 rows\n",
            "\n"
          ]
        }
      ]
    },
    {
      "cell_type": "code",
      "metadata": {
        "colab": {
          "base_uri": "https://localhost:8080/"
        },
        "id": "nGGNCf3DK5Y5",
        "outputId": "715c9a6e-1b25-40d2-dd91-258ca6d365ba"
      },
      "source": [
        "data.first()"
      ],
      "execution_count": null,
      "outputs": [
        {
          "output_type": "execute_result",
          "data": {
            "text/plain": [
              "Row(age=33, sex='male', job=2, housing='own', saving_accounts=None, checking_account=None, credit_amount=3074, duration=9, purpose='radio/TV', default=0, contract_dt=datetime.date(2008, 6, 29), client_id=210)"
            ]
          },
          "metadata": {},
          "execution_count": 23
        }
      ]
    },
    {
      "cell_type": "code",
      "metadata": {
        "colab": {
          "base_uri": "https://localhost:8080/"
        },
        "id": "SDbS82X5K-yR",
        "outputId": "6ee32602-731f-4d47-908d-efa3e3be729c"
      },
      "source": [
        "data.describe()"
      ],
      "execution_count": null,
      "outputs": [
        {
          "output_type": "execute_result",
          "data": {
            "text/plain": [
              "DataFrame[summary: string, age: string, sex: string, job: string, housing: string, saving_accounts: string, checking_account: string, credit_amount: string, duration: string, purpose: string, default: string, client_id: string]"
            ]
          },
          "metadata": {},
          "execution_count": 24
        }
      ]
    },
    {
      "cell_type": "code",
      "metadata": {
        "colab": {
          "base_uri": "https://localhost:8080/"
        },
        "id": "pbslFq_DLMmZ",
        "outputId": "913ab10a-c50f-4c9c-e1f2-642edc1f4236"
      },
      "source": [
        "data.columns"
      ],
      "execution_count": null,
      "outputs": [
        {
          "output_type": "execute_result",
          "data": {
            "text/plain": [
              "['age',\n",
              " 'sex',\n",
              " 'job',\n",
              " 'housing',\n",
              " 'saving_accounts',\n",
              " 'checking_account',\n",
              " 'credit_amount',\n",
              " 'duration',\n",
              " 'purpose',\n",
              " 'default',\n",
              " 'contract_dt',\n",
              " 'client_id']"
            ]
          },
          "metadata": {},
          "execution_count": 26
        }
      ]
    },
    {
      "cell_type": "code",
      "metadata": {
        "colab": {
          "base_uri": "https://localhost:8080/"
        },
        "id": "yd-3rK1QLYA4",
        "outputId": "b5773a5c-8281-4d69-8c28-25a1f4a74c66"
      },
      "source": [
        "#@title Текст заголовка по умолчанию\n",
        "data.select('housing', 'sex').show(5)"
      ],
      "execution_count": null,
      "outputs": [
        {
          "output_type": "stream",
          "name": "stdout",
          "text": [
            "+-------+------+\n",
            "|housing|   sex|\n",
            "+-------+------+\n",
            "|    own|  male|\n",
            "|    own|  male|\n",
            "|    own|  male|\n",
            "|    own|female|\n",
            "|    own|  male|\n",
            "+-------+------+\n",
            "only showing top 5 rows\n",
            "\n"
          ]
        }
      ]
    },
    {
      "cell_type": "code",
      "metadata": {
        "colab": {
          "base_uri": "https://localhost:8080/"
        },
        "id": "ph0-KX5hL80M",
        "outputId": "c2bbc47a-bfb0-4cbb-a4f3-3a3d81ac7975"
      },
      "source": [
        "from pyspark.sql.functions import col, lit\n",
        "data.filter((col('contract_dt') > lit('2007-09-03')) & (col('contract_dt') < lit('2007-11-23'))).show(5)"
      ],
      "execution_count": null,
      "outputs": [
        {
          "output_type": "stream",
          "name": "stdout",
          "text": [
            "+---+------+---+-------+---------------+----------------+-------------+--------+-------------------+-------+-----------+---------+\n",
            "|age|   sex|job|housing|saving_accounts|checking_account|credit_amount|duration|            purpose|default|contract_dt|client_id|\n",
            "+---+------+---+-------+---------------+----------------+-------------+--------+-------------------+-------+-----------+---------+\n",
            "| 55|  male|  2|   free|           rich|            null|         1555|      12|            repairs|      1| 2007-09-11|      754|\n",
            "| 35|  male|  2|   free|         little|          little|         3386|      12|                car|      1| 2007-11-16|      457|\n",
            "| 21|female|  2|   rent|       moderate|        moderate|         3441|      30|furniture/equipment|      1| 2007-10-03|      618|\n",
            "| 47|  male|  2|   free|         little|            null|         5103|      24|           radio/TV|      0| 2007-10-25|      683|\n",
            "| 28|  male|  2|    own|         little|            null|         1413|      24|           radio/TV|      0| 2007-10-18|      508|\n",
            "+---+------+---+-------+---------------+----------------+-------------+--------+-------------------+-------+-----------+---------+\n",
            "only showing top 5 rows\n",
            "\n"
          ]
        }
      ]
    },
    {
      "cell_type": "code",
      "metadata": {
        "id": "2Jq4xkxMM44n"
      },
      "source": [
        ""
      ],
      "execution_count": null,
      "outputs": []
    }
  ]
}